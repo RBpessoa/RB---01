{
 "cells": [
  {
   "cell_type": "code",
   "execution_count": 13,
   "metadata": {},
   "outputs": [
    {
     "name": "stdout",
     "output_type": "stream",
     "text": [
      "Olá, mundo!\n"
     ]
    }
   ],
   "source": [
    "# \" \" ou '' para escrever textos\n",
    "print(\"Olá, mundo!\")\n"
   ]
  },
  {
   "cell_type": "code",
   "execution_count": 32,
   "metadata": {},
   "outputs": [],
   "source": [
    "# Regras e convenções: não pode comerçar com número (ex:1nome);\n",
    "# Não deve começar com Maiúculas (ex: Nome)-> Convenção de algo maior;\n",
    "# Não deve conter caracteres (| ! ^ '\"\")\n",
    "# \"a\" =  caracteres e \"palavra\" = string \n",
    "nome = 'Rafael'"
   ]
  },
  {
   "cell_type": "code",
   "execution_count": 19,
   "metadata": {},
   "outputs": [],
   "source": [
    "# Inteiro = fechado (ex:35)\n",
    "# Real ou flutuante (ex: 1.75)\n",
    "idade = 35"
   ]
  },
  {
   "cell_type": "code",
   "execution_count": 27,
   "metadata": {},
   "outputs": [
    {
     "name": "stdout",
     "output_type": "stream",
     "text": [
      "Olá, Rafael\n"
     ]
    }
   ],
   "source": [
    "print('Olá,', nome)"
   ]
  },
  {
   "cell_type": "code",
   "execution_count": null,
   "metadata": {},
   "outputs": [],
   "source": [
    "#dev (abreviação de desenvolvedor)\n",
    "#True tem valor, já o true é operacional do sistema."
   ]
  }
 ],
 "metadata": {
  "kernelspec": {
   "display_name": "venv",
   "language": "python",
   "name": "python3"
  },
  "language_info": {
   "codemirror_mode": {
    "name": "ipython",
    "version": 3
   },
   "file_extension": ".py",
   "mimetype": "text/x-python",
   "name": "python",
   "nbconvert_exporter": "python",
   "pygments_lexer": "ipython3",
   "version": "3.10.11"
  }
 },
 "nbformat": 4,
 "nbformat_minor": 2
}
