{
 "cells": [
  {
   "cell_type": "code",
   "execution_count": 2,
   "metadata": {},
   "outputs": [
    {
     "name": "stdout",
     "output_type": "stream",
     "text": [
      "35\n"
     ]
    }
   ],
   "source": [
    "valor = int(input('O numero informado foi'))\n",
    "print(valor)"
   ]
  },
  {
   "cell_type": "code",
   "execution_count": 6,
   "metadata": {},
   "outputs": [
    {
     "name": "stdout",
     "output_type": "stream",
     "text": [
      "60\n"
     ]
    }
   ],
   "source": [
    "numero1 = int(input('diga um numero'))\n",
    "numero2 = int(input('diga um numero'))\n",
    "print(numero1 + numero2)"
   ]
  },
  {
   "cell_type": "code",
   "execution_count": 9,
   "metadata": {},
   "outputs": [
    {
     "name": "stdout",
     "output_type": "stream",
     "text": [
      "8.333333333333334\n"
     ]
    }
   ],
   "source": [
    "nota1 = float(input('digita a primeira nota1'))\n",
    "nota2 = float(input('digita a primeira nota2'))\n",
    "nota3 = float(input('digita a primeira nota3'))\n",
    "media = (nota1 + nota2 + nota3)/3\n",
    "print(media)"
   ]
  },
  {
   "cell_type": "code",
   "execution_count": 15,
   "metadata": {},
   "outputs": [
    {
     "name": "stdout",
     "output_type": "stream",
     "text": [
      "3150.0\n"
     ]
    }
   ],
   "source": [
    "valor_horas = float(input('Qual o valor por hora trabalhada?'))\n",
    "qtd_horas = float(input('Quantas horas você trabalhou?'))\n",
    "salario = (valor_horas* qtd_horas)\n",
    "print(salario) \n",
    "\n"
   ]
  },
  {
   "cell_type": "code",
   "execution_count": 43,
   "metadata": {},
   "outputs": [
    {
     "name": "stdout",
     "output_type": "stream",
     "text": [
      "408.0\n"
     ]
    }
   ],
   "source": [
    "#multa\n",
    "multa = float(4.00)\n",
    "#peso do peixe \n",
    "peso_peixe = float(input('Infome o peso do peixe'))\n",
    "#qual a multa a pagar?\n",
    "if(peso_peixe >50):\n",
    "    print((peso_peixe - 50)*multa)\n",
    "else:\n",
    "    print('Sem Multa')\n",
    "\n"
   ]
  },
  {
   "cell_type": "code",
   "execution_count": 47,
   "metadata": {},
   "outputs": [
    {
     "name": "stdout",
     "output_type": "stream",
     "text": [
      "Voce vai pagar R$ 24.0\n"
     ]
    }
   ],
   "source": [
    "#multa\n",
    "multa = float(4.00)\n",
    "#peso do peixe \n",
    "peso_peixe = float(input('Infome o peso do peixe'))\n",
    "#qual a multa a pagar?\n",
    "if(peso_peixe >50):\n",
    "    print(\"Voce vai pagar R$\", (peso_peixe - 50)*multa)\n",
    "else:\n",
    "    print('Sem Multa')"
   ]
  }
 ],
 "metadata": {
  "kernelspec": {
   "display_name": "Python 3",
   "language": "python",
   "name": "python3"
  },
  "language_info": {
   "codemirror_mode": {
    "name": "ipython",
    "version": 3
   },
   "file_extension": ".py",
   "mimetype": "text/x-python",
   "name": "python",
   "nbconvert_exporter": "python",
   "pygments_lexer": "ipython3",
   "version": "3.12.2"
  }
 },
 "nbformat": 4,
 "nbformat_minor": 2
}
