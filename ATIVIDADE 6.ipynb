{
 "cells": [
  {
   "cell_type": "code",
   "execution_count": 152,
   "metadata": {},
   "outputs": [
    {
     "name": "stdout",
     "output_type": "stream",
     "text": [
      "ATENÇÃO - RESPOSTAS INVÁLIDAS\n"
     ]
    }
   ],
   "source": [
    "#Perguntar ao usuário como está o clima no dia de hoje\n",
    "clima = input('Como esta o clima no dia de hoje? Digite 1 - SOL ou 2 - CHUVA')\n",
    "#Perguntar ao usuário se ele possui dinheiro \n",
    "dinheiro = input('Você possui dinheiro para sair? Digite 1: SIM ou 2: NÃO')\n",
    "#Condicionar as resostas as opções de PRAIA OU NETFLIX para o usuário\n",
    "if(clima == '1' and dinheiro == '1'):\n",
    "    print('Praia')\n",
    "elif(clima == '1' and dinheiro == '2'):\n",
    "    print('Assista Netflix')\n",
    "elif(clima == '2'and dinheiro == '1'):\n",
    "    print('Assista Netflix')\n",
    "elif(clima =='2' and dinheiro =='2'):\n",
    "    print('Assista Netflix')\n",
    "else:\n",
    "    print('ATENÇÃO - RESPOSTAS INVÁLIDAS')"
   ]
  },
  {
   "cell_type": "code",
   "execution_count": null,
   "metadata": {},
   "outputs": [],
   "source": []
  }
 ],
 "metadata": {
  "kernelspec": {
   "display_name": "Python 3",
   "language": "python",
   "name": "python3"
  },
  "language_info": {
   "codemirror_mode": {
    "name": "ipython",
    "version": 3
   },
   "file_extension": ".py",
   "mimetype": "text/x-python",
   "name": "python",
   "nbconvert_exporter": "python",
   "pygments_lexer": "ipython3",
   "version": "3.12.2"
  }
 },
 "nbformat": 4,
 "nbformat_minor": 2
}
